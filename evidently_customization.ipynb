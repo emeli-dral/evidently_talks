{
 "cells": [
  {
   "cell_type": "markdown",
   "id": "97754dd8",
   "metadata": {},
   "source": [
    "# Evidently Report & TestSuites Customization"
   ]
  },
  {
   "cell_type": "code",
   "execution_count": null,
   "id": "b2655b88",
   "metadata": {},
   "outputs": [],
   "source": [
    "import pandas as pd\n",
    "\n",
    "from sklearn import datasets\n",
    "from sklearn import ensemble\n",
    "from sklearn import model_selection\n",
    "\n",
    "from evidently import ColumnMapping\n",
    "from evidently.report import Report\n",
    "from evidently.test_suite import TestSuite\n",
    "\n",
    "from evidently.metrics import DataDriftTable\n",
    "from evidently.metrics import ClassificationQualityMetric\n",
    "from evidently.metrics import ColumnQuantileMetric\n",
    "from evidently.metrics import ColumnValueRangeMetric\n",
    "\n",
    "from evidently.metric_preset import DataDriftPreset\n",
    "\n",
    "from evidently.metrics.base_metric import generate_column_metrics\n",
    "\n",
    "from evidently.tests import TestCorrelationChanges\n",
    "from evidently.tests import TestShareOfDriftedColumns\n",
    "from evidently.tests import TestColumnQuantile\n",
    "from evidently.tests import TestColumnValueMin\n",
    "from evidently.tests import TestPrecisionScore\n",
    "from evidently.tests import TestRecallScore\n",
    "\n",
    "from evidently.test_preset import NoTargetPerformanceTestPreset\n",
    "\n",
    "from evidently.tests.base_test import generate_column_tests\n",
    "\n",
    "from evidently.options import ColorOptions\n",
    "\n",
    "from evidently.tests.utils import approx"
   ]
  },
  {
   "cell_type": "code",
   "execution_count": null,
   "id": "c511ea42",
   "metadata": {},
   "outputs": [],
   "source": [
    "import warnings\n",
    "warnings.filterwarnings('ignore')\n",
    "warnings.simplefilter('ignore')"
   ]
  },
  {
   "cell_type": "code",
   "execution_count": null,
   "id": "83fafe87",
   "metadata": {},
   "outputs": [],
   "source": [
    "#Dataset for binary label and probabilistic classifcation\n",
    "bcancer_data = datasets.load_breast_cancer(as_frame='auto')\n",
    "bcancer = bcancer_data.frame\n",
    "\n",
    "bcancer_ref = bcancer.sample(n=300, replace=False)\n",
    "bcancer_cur = bcancer.sample(n=200, replace=False)\n",
    "\n",
    "model = ensemble.RandomForestClassifier(random_state=1, n_estimators=10)\n",
    "model.fit(bcancer_ref[bcancer_data.feature_names.tolist()], bcancer_ref.target)\n",
    "\n",
    "bcancer_ref['prediction'] = model.predict_proba(bcancer_ref[bcancer_data.feature_names.tolist()])[:, 1]\n",
    "bcancer_cur['prediction'] = model.predict_proba(bcancer_cur[bcancer_data.feature_names.tolist()])[:, 1]"
   ]
  },
  {
   "cell_type": "code",
   "execution_count": null,
   "id": "8dcf209d",
   "metadata": {},
   "outputs": [],
   "source": [
    "bcancer_ref.head()"
   ]
  },
  {
   "cell_type": "markdown",
   "id": "41036308",
   "metadata": {},
   "source": [
    "## Metric Parameters Setting"
   ]
  },
  {
   "cell_type": "code",
   "execution_count": null,
   "id": "ceacf544",
   "metadata": {
    "scrolled": true
   },
   "outputs": [],
   "source": [
    "#Dataset metrics with parameters\n",
    "dataset_report = Report(metrics=[\n",
    "    ClassificationQualityMetric(probas_threshold=0.5),\n",
    "    DataDriftTable(num_stattest='kl_div', cat_stattest='psi', stattest_threshold=0.1),  \n",
    "])\n",
    "\n",
    "dataset_report.run(reference_data=bcancer_ref, current_data=bcancer_cur)\n",
    "dataset_report"
   ]
  },
  {
   "cell_type": "code",
   "execution_count": null,
   "id": "1cf57d9f",
   "metadata": {
    "scrolled": true
   },
   "outputs": [],
   "source": [
    "#Column metrics with parameters\n",
    "columns_report = Report(metrics=[\n",
    "    ColumnQuantileMetric(column_name='mean radius', quantile=0.75), \n",
    "    ColumnValueRangeMetric(column_name='mean texture', left=10, right=20)\n",
    "])\n",
    "\n",
    "columns_report.run(reference_data=bcancer_ref, current_data=bcancer_cur)\n",
    "columns_report"
   ]
  },
  {
   "cell_type": "code",
   "execution_count": null,
   "id": "b675f425",
   "metadata": {
    "scrolled": true
   },
   "outputs": [],
   "source": [
    "#Auto-generated column metrics with parameters\n",
    "metric_generator_report = Report(\n",
    "    metrics=[\n",
    "        generate_column_metrics(\n",
    "            ColumnValueRangeMetric,\n",
    "            columns=['mean radius', 'mean texture', 'mean perimeter'],\n",
    "            parameters={\"left\": 5, \"right\": 25}\n",
    "        )\n",
    "    ]\n",
    ")\n",
    "metric_generator_report.run(current_data=bcancer_ref, reference_data=bcancer_cur)\n",
    "metric_generator_report"
   ]
  },
  {
   "cell_type": "code",
   "execution_count": null,
   "id": "ab3e91ed",
   "metadata": {
    "scrolled": true
   },
   "outputs": [],
   "source": [
    "#Metric presets with parameters\n",
    "preset_report = Report(metrics=[\n",
    "    DataDriftPreset(columns = ['mean radius', 'mean texture', 'mean perimeter', 'mean area', 'mean symmetry'], \n",
    "                    drift_share = 0.1, stattest_threshold=0.2),  \n",
    "])\n",
    "\n",
    "preset_report.run(reference_data=bcancer_ref, current_data=bcancer_cur)\n",
    "preset_report"
   ]
  },
  {
   "cell_type": "code",
   "execution_count": null,
   "id": "75a4dec3",
   "metadata": {},
   "outputs": [],
   "source": [
    "#Metric presets with parameters\n",
    "preset_report = Report(metrics=[\n",
    "    DataDriftPreset(columns = ['mean radius', 'mean texture', 'mean perimeter', 'mean area', 'mean symmetry'], \n",
    "                    per_column_stattest = {\n",
    "                        'mean radius':'hellinger', \n",
    "                        'mean texture':'t_test', \n",
    "                        'mean perimeter':'mannw', \n",
    "                        'mean area':'wasserstein', \n",
    "                        'mean symmetry':'cramer_von_mises'\n",
    "                    }),  \n",
    "])\n",
    "\n",
    "preset_report.run(reference_data=bcancer_ref, current_data=bcancer_cur)\n",
    "preset_report"
   ]
  },
  {
   "cell_type": "markdown",
   "id": "fb933956",
   "metadata": {},
   "source": [
    "## Test Parameters and Conditions Setting"
   ]
  },
  {
   "cell_type": "code",
   "execution_count": null,
   "id": "6cb1665d",
   "metadata": {},
   "outputs": [],
   "source": [
    "#Dataset tests with parameters and conditions\n",
    "dataset_suite = TestSuite(tests=[\n",
    "    TestCorrelationChanges(method='spearman', corr_diff=0.5),\n",
    "    TestShareOfDriftedColumns(gt=0)\n",
    "])\n",
    "\n",
    "dataset_suite.run(current_data=bcancer_ref, reference_data=bcancer_cur)\n",
    "dataset_suite"
   ]
  },
  {
   "cell_type": "code",
   "execution_count": null,
   "id": "df7e6ccf",
   "metadata": {},
   "outputs": [],
   "source": [
    "#Column tests with parameters and conditions\n",
    "column_tests_suite = TestSuite(tests=[\n",
    "    TestColumnQuantile(column_name='mean perimeter', quantile=0.25, eq=approx(70, relative=0.08)),\n",
    "    TestPrecisionScore(probas_threshold=0.8, gt=0.99),\n",
    "    TestRecallScore(probas_threshold=0.8, gt=0.99)\n",
    "])\n",
    "\n",
    "column_tests_suite.run(current_data=bcancer_ref, reference_data=bcancer_cur)\n",
    "column_tests_suite"
   ]
  },
  {
   "cell_type": "code",
   "execution_count": null,
   "id": "53edef34",
   "metadata": {},
   "outputs": [],
   "source": [
    "#Auto-generated column tests with parameters and conditions\n",
    "test_generator_suite = TestSuite(tests=[\n",
    "    generate_column_tests(TestColumnValueMin, columns=\"num\")\n",
    "])\n",
    "\n",
    "test_generator_suite.run(current_data=bcancer_ref, reference_data=bcancer_cur)\n",
    "test_generator_suite"
   ]
  },
  {
   "cell_type": "code",
   "execution_count": null,
   "id": "be0833f6",
   "metadata": {},
   "outputs": [],
   "source": [
    "#Auto-generated column tests with parameters and conditions\n",
    "test_generator_suite = TestSuite(tests=[\n",
    "    generate_column_tests(TestColumnValueMin, columns=[\n",
    "        'mean radius', \n",
    "        'mean texture', \n",
    "        'mean perimeter', \n",
    "        'mean area', \n",
    "        'mean symmetry'\n",
    "    ], parameters={\"gt\": 0})\n",
    "])\n",
    "\n",
    "test_generator_suite.run(current_data=bcancer_ref, reference_data=bcancer_cur)\n",
    "test_generator_suite"
   ]
  },
  {
   "cell_type": "code",
   "execution_count": null,
   "id": "3508a9ec",
   "metadata": {},
   "outputs": [],
   "source": [
    "#Test presets with parameters and conditions\n",
    "no_target_performance = TestSuite(tests=[\n",
    "    NoTargetPerformanceTestPreset(columns=['mean radius', \n",
    "                                           'mean texture', \n",
    "                                           'mean perimeter', \n",
    "                                           'mean area', \n",
    "                                           'mean symmetry'\n",
    "                                          ])\n",
    "])\n",
    "\n",
    "no_target_performance.run(reference_data=bcancer_ref, current_data=bcancer_cur)\n",
    "no_target_performance"
   ]
  },
  {
   "cell_type": "markdown",
   "id": "586b3977",
   "metadata": {},
   "source": [
    "## Colors Specification "
   ]
  },
  {
   "cell_type": "code",
   "execution_count": null,
   "id": "ae8d076e",
   "metadata": {},
   "outputs": [],
   "source": [
    "#options\n",
    "color_scheme = ColorOptions()\n",
    "color_scheme.primary_color = \"#5a86ad\"\n",
    "color_scheme.fill_color = \"#fff4f2\"\n",
    "color_scheme.zero_line_color = \"#016795\"\n",
    "color_scheme.current_data_color = \"#c292a1\" \n",
    "color_scheme.reference_data_color = \"#017b92\""
   ]
  },
  {
   "cell_type": "code",
   "execution_count": null,
   "id": "35b257b7",
   "metadata": {},
   "outputs": [],
   "source": [
    "test_generator_suite = TestSuite(tests=[\n",
    "    generate_column_tests(TestColumnValueMin, columns=[\n",
    "        'mean radius', \n",
    "        'mean texture', \n",
    "        'mean perimeter', \n",
    "        'mean area', \n",
    "        'mean symmetry'\n",
    "    ], parameters={\"gt\": 0})\n",
    "],\n",
    "                                options=[color_scheme])\n",
    "\n",
    "test_generator_suite.run(current_data=bcancer_ref, reference_data=bcancer_cur)\n",
    "test_generator_suite"
   ]
  },
  {
   "cell_type": "code",
   "execution_count": null,
   "id": "8bce7d79",
   "metadata": {},
   "outputs": [],
   "source": [
    "columns_report = Report(metrics=[\n",
    "    ColumnQuantileMetric(column_name='mean radius', quantile=0.75), \n",
    "    ColumnValueRangeMetric(column_name='mean texture', left=10, right=20)\n",
    "],\n",
    "                       options=[color_scheme])\n",
    "\n",
    "columns_report.run(reference_data=bcancer_ref, current_data=bcancer_cur)\n",
    "columns_report"
   ]
  }
 ],
 "metadata": {
  "kernelspec": {
   "display_name": "Python 3 (ipykernel)",
   "language": "python",
   "name": "python3"
  },
  "language_info": {
   "codemirror_mode": {
    "name": "ipython",
    "version": 3
   },
   "file_extension": ".py",
   "mimetype": "text/x-python",
   "name": "python",
   "nbconvert_exporter": "python",
   "pygments_lexer": "ipython3",
   "version": "3.8.13"
  }
 },
 "nbformat": 4,
 "nbformat_minor": 5
}
